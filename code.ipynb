{
 "cells": [
  {
   "cell_type": "code",
   "execution_count": 2,
   "id": "967cb36a-06a1-426c-b1fd-1a48c5795b4d",
   "metadata": {},
   "outputs": [],
   "source": [
    "import numpy as np\n",
    "import cmath\n",
    "import random\n",
    "import matplotlib.pyplot as plt"
   ]
  },
  {
   "cell_type": "code",
   "execution_count": 3,
   "id": "690867d0-562a-4d19-9071-8eea2172ee00",
   "metadata": {},
   "outputs": [],
   "source": [
    "def calc_distance(drone_1, drone_2):\n",
    "    # 计算任意两架无人机的距离\n",
    "    return np.sqrt((drone_1[0] - drone_2[0]) ** 2 + (drone_1[1] - drone_2[1]) ** 2)\n",
    "    \n",
    "    \n",
    "def calc_angle(drone_recipient, drone_sender_1, drone_sender_2):\n",
    "    # 使用余弦定理计算夹角\n",
    "    a = calc_distance(drone_sender_1, drone_sender_2)\n",
    "    b = calc_distance(drone_recipient, drone_sender_1)\n",
    "    c = calc_distance(drone_recipient, drone_sender_2)\n",
    "    return np.arccos((b**2 + c**2 - a**2) / (2 * b * c)) * 180 / np.pi\n",
    "\n",
    "def cost(angle1, angle2):\n",
    "    return np.sum(((np.array(angle1) - np.array(angle2)) * 100) ** 2)\n",
    "\n",
    "def cost_one(angle1, angle2):\n",
    "    return np.abs(angle1 - angle2) * 100\n",
    "\n",
    "def plot_location(location):\n",
    "    x = []\n",
    "    y = []\n",
    "    for i in location:\n",
    "        x.append(i[0])\n",
    "        y.append(i[1])\n",
    "    plt.scatter(x, y)\n",
    "    plt.show()"
   ]
  },
  {
   "cell_type": "code",
   "execution_count": 4,
   "id": "e9545217-f335-4040-8a8c-21a2a1f13a27",
   "metadata": {},
   "outputs": [],
   "source": [
    "# 表1数据\n",
    "drone_location_polar = [\n",
    "    [0, 0],\n",
    "    [100, 0],\n",
    "    [98, 40.10],\n",
    "    [112, 80.21],\n",
    "    [105, 119.75],\n",
    "    [98, 159.86],\n",
    "    [112, 199.96],\n",
    "    [105, 240.07],\n",
    "    [98, 280.17],\n",
    "    [112, 320.28]\n",
    "]\n",
    "# 无人机位置无偏差极坐标\n",
    "drone_ideal_location_polar = [\n",
    "    [0, 0],\n",
    "    [100, 0],\n",
    "    [100, 40],\n",
    "    [100, 80],\n",
    "    [100, 120],\n",
    "    [100, 160],\n",
    "    [100, 200],\n",
    "    [100, 240],\n",
    "    [100, 280],\n",
    "    [100, 320]\n",
    "]\n",
    "drone_location_cartesian = []\n",
    "drone_ideal_location_cartesian = []"
   ]
  },
  {
   "cell_type": "code",
   "execution_count": 5,
   "id": "b9fa8c45-d735-4ae0-a79a-deb2e41f0f6d",
   "metadata": {},
   "outputs": [
    {
     "data": {
      "image/png": "[encoded data removed]",
      "text/plain": [
       "<Figure size 432x288 with 1 Axes>"
      ]
     },
     "metadata": {
      "needs_background": "light"
     },
     "output_type": "display_data"
    },
    {
     "data": {
      "image/png": "[encoded data removed]",
      "text/plain": [
       "<Figure size 432x288 with 1 Axes>"
      ]
     },
     "metadata": {
      "needs_background": "light"
     },
     "output_type": "display_data"
    }
   ],
   "source": [
    "def polar_to_cartesian(location):\n",
    "    # 极坐标转换为直角坐标\n",
    "    f = np.pi / 180\n",
    "    return [location[0] * np.cos(location[1] * f), location[0] * np.sin(location[1] * f)]\n",
    "\n",
    "def cartesian_to_polar(location):\n",
    "    # 直角坐标转换为极坐标\n",
    "    cn = list(cmath.polar(complex(location[0], location[1])))\n",
    "    cn[1] = cn[1] * 180 / np.pi\n",
    "    if cn[1] < 0:\n",
    "        cn[1] += 360\n",
    "    return cn\n",
    "\n",
    "drone_location_cartesian = [] # 无人机直角坐标\n",
    "drone_ideal_location_cartesian = []\n",
    "for location in drone_location_polar:\n",
    "    drone_location_cartesian.append(polar_to_cartesian(location))\n",
    "\n",
    "for location in drone_ideal_location_polar:\n",
    "    drone_ideal_location_cartesian.append(polar_to_cartesian(location))\n",
    "\n",
    "plot_location(drone_ideal_location_cartesian)\n",
    "plot_location(drone_location_cartesian)"
   ]
  },
  {
   "cell_type": "code",
   "execution_count": 6,
   "id": "740da7bc-408e-497b-8ce0-9dbb34569abf",
   "metadata": {},
   "outputs": [],
   "source": [
    "# 根据两个夹角推测位置\n",
    "def get_location_from_angle(drone_id, angle, drone_sender_1, drone_sender_2, drone_sender_3):\n",
    "    adjustment_range = 16\n",
    "    precision = 0.5\n",
    "    location_cost = []\n",
    "    min_cost = 1000000\n",
    "    min_cost_idx = -1\n",
    "    for i in np.arange(adjustment_range * -1, adjustment_range + precision, precision):\n",
    "        for i2 in np.arange(adjustment_range * -1, adjustment_range + precision, precision):\n",
    "            location = list(drone_ideal_location_cartesian[drone_id])\n",
    "            location[0] += i\n",
    "            location[1] += i2\n",
    "            cost_result = cost(\n",
    "                [calc_angle(location, drone_sender_1, drone_sender_2), calc_angle(location, drone_sender_1, drone_sender_3)],\n",
    "                angle\n",
    "            )\n",
    "            if min_cost > cost_result:\n",
    "                min_cost = cost_result\n",
    "                min_cost_idx = len(location_cost)\n",
    "            location_cost.append([[np.round(location[0], 2), np.round(location[1], 2)], np.round(cost_result, 2)])\n",
    "    return location_cost[min_cost_idx]"
   ]
  },
  {
   "cell_type": "code",
   "execution_count": 7,
   "id": "4d46a3c2-95d9-4381-968c-28f47b8d6ada",
   "metadata": {},
   "outputs": [
    {
     "name": "stdout",
     "output_type": "stream",
     "text": [
      "推测的位置, 直角坐标: [-52.0, 91.6]\n",
      "实际的位置, 直角坐标: [-52.10273288589687, 91.16087552135994]\n",
      "推测的位置，极坐标: [105.33071726709166, 119.58295300593873]\n",
      "实际的位置，极坐标: [105.00000000000001, 119.75]\n"
     ]
    }
   ],
   "source": [
    "\"\"\"\n",
    "假设编号为0, 1, 2的无人机发送信号，它们的位置无偏差。7号无人机的坐标有偏差，使用表1数据，根据夹角推测7号的位置\n",
    "\n",
    "7号无人机(FY07)当前极坐标：[105, 240.07]，直角坐标[-52.38886563516721, -90.99674036722632]\n",
    "调用calc_angle可得夹角分别为29.2270和9.7877度，调用get_location_from_angle推测位置\n",
    "\"\"\"\n",
    "drone_id = 4\n",
    "angle = [calc_angle(drone_location_cartesian[drone_id], \n",
    "                    drone_ideal_location_cartesian[0], \n",
    "                    drone_ideal_location_cartesian[1]), \n",
    "         calc_angle(drone_location_cartesian[drone_id], \n",
    "                    drone_ideal_location_cartesian[0], \n",
    "                    drone_ideal_location_cartesian[2])]\n",
    "\n",
    "location = get_location_from_angle(drone_id,\n",
    "                                   angle, \n",
    "                                   drone_ideal_location_cartesian[0], \n",
    "                                   drone_ideal_location_cartesian[1], \n",
    "                                   drone_ideal_location_cartesian[2])\n",
    "\n",
    "print(f\"推测的位置, 直角坐标: {location[0]}\")\n",
    "print(f\"实际的位置, 直角坐标: {drone_location_cartesian[drone_id]}\")\n",
    "print(f\"推测的位置，极坐标: {cartesian_to_polar(location[0])}\")\n",
    "print(f\"实际的位置，极坐标: {cartesian_to_polar(drone_location_cartesian[drone_id])}\")"
   ]
  },
  {
   "cell_type": "code",
   "execution_count": null,
   "id": "1284a71c-65be-4d95-bd2e-18f0685a3edc",
   "metadata": {},
   "outputs": [],
   "source": []
  },
  {
   "cell_type": "code",
   "execution_count": 8,
   "id": "b792e168-503a-44e1-b188-d9dd302453b3",
   "metadata": {},
   "outputs": [],
   "source": [
    "\"\"\"\n",
    "Q2:\n",
    "    由表1可知，FY01无人机位置无偏移，其它无人机位置有偏移。\n",
    "    从FY02-FY09轮流选取一个无人机，与FY00和FY01一起，校正其它无人机的位置，重复多次。\n",
    "    评价指标：其它无人机的位置与理想位置（无偏差的均匀分布在圆上）的距离之和，距离之和越小，各无人机位置越准确\n",
    "\"\"\"\n",
    "def adjust_location(drone_testing_location, drone_sender_id):\n",
    "    distance = 0\n",
    "    for i in range(1, len(drone_testing_location)):\n",
    "        distance += calc_distance(drone_testing_location[i], drone_ideal_location_cartesian[i])\n",
    "    print(f\"调整前各无人机与理想位置的距离之和: {distance}\")\n",
    "    for sender_drone in range(1, len(drone_testing_location)):\n",
    "        if sender_drone == drone_sender_id:\n",
    "            continue\n",
    "        distance = 0  # 52.0826\n",
    "        for i in range(1, len(drone_testing_location)):\n",
    "            if i not in [sender_drone, drone_sender_id]:\n",
    "                drone_id = i\n",
    "                angle = [calc_angle(drone_testing_location[drone_id], \n",
    "                                    drone_testing_location[0], \n",
    "                                    drone_testing_location[drone_sender_id]), \n",
    "                         calc_angle(drone_testing_location[drone_id], \n",
    "                                    drone_testing_location[0], \n",
    "                                    drone_testing_location[sender_drone])]\n",
    "\n",
    "                location = get_location_from_angle(drone_id,\n",
    "                                                   angle, \n",
    "                                                   drone_ideal_location_cartesian[0], \n",
    "                                                   drone_ideal_location_cartesian[drone_sender_id], \n",
    "                                                   drone_ideal_location_cartesian[sender_drone])\n",
    "                drone_testing_location[i][0] += drone_ideal_location_cartesian[i][0] - location[0][0]\n",
    "                drone_testing_location[i][1] += drone_ideal_location_cartesian[i][1] - location[0][1]\n",
    "            distance += calc_distance(drone_testing_location[i], drone_ideal_location_cartesian[i])\n",
    "        print(f\"使用0, {drone_sender_id}, {sender_drone}调整无人机位置，调整后各无人机与理想位置的距离之和: {distance}\")"
   ]
  },
  {
   "cell_type": "code",
   "execution_count": 9,
   "id": "7c405680-121a-4aaa-97ce-2f4a5a9c73dd",
   "metadata": {},
   "outputs": [
    {
     "name": "stdout",
     "output_type": "stream",
     "text": [
      "第 1 次调整:\n",
      "调整前各无人机与理想位置的距离之和: 52.08262949326125\n",
      "使用0, 1, 2调整无人机位置，调整后各无人机与理想位置的距离之和: 24.12818630890338\n",
      "使用0, 1, 3调整无人机位置，调整后各无人机与理想位置的距离之和: 40.49365018539801\n",
      "使用0, 1, 4调整无人机位置，调整后各无人机与理想位置的距离之和: 12.131067773626928\n",
      "使用0, 1, 5调整无人机位置，调整后各无人机与理想位置的距离之和: 9.448584130511987\n",
      "使用0, 1, 6调整无人机位置，调整后各无人机与理想位置的距离之和: 8.659523154383413\n",
      "使用0, 1, 7调整无人机位置，调整后各无人机与理想位置的距离之和: 9.029914461739626\n",
      "使用0, 1, 8调整无人机位置，调整后各无人机与理想位置的距离之和: 13.459564537378633\n",
      "使用0, 1, 9调整无人机位置，调整后各无人机与理想位置的距离之和: 41.26248022407574\n",
      "第 2 次调整:\n",
      "调整前各无人机与理想位置的距离之和: 41.26248022407574\n",
      "使用0, 1, 2调整无人机位置，调整后各无人机与理想位置的距离之和: 90.77178699023608\n",
      "使用0, 1, 3调整无人机位置，调整后各无人机与理想位置的距离之和: 14.12087573104153\n",
      "使用0, 1, 4调整无人机位置，调整后各无人机与理想位置的距离之和: 3.5716022922104944\n",
      "使用0, 1, 5调整无人机位置，调整后各无人机与理想位置的距离之和: 4.201249201709974\n",
      "使用0, 1, 6调整无人机位置，调整后各无人机与理想位置的距离之和: 4.170624783153455\n",
      "使用0, 1, 7调整无人机位置，调整后各无人机与理想位置的距离之和: 4.721057077119267\n",
      "使用0, 1, 8调整无人机位置，调整后各无人机与理想位置的距离之和: 5.388084107763629\n",
      "使用0, 1, 9调整无人机位置，调整后各无人机与理想位置的距离之和: 20.80810383062165\n",
      "第 3 次调整:\n",
      "调整前各无人机与理想位置的距离之和: 20.80810383062165\n",
      "使用0, 1, 2调整无人机位置，调整后各无人机与理想位置的距离之和: 53.139878955411874\n",
      "使用0, 1, 3调整无人机位置，调整后各无人机与理想位置的距离之和: 6.867394731678588\n",
      "使用0, 1, 4调整无人机位置，调整后各无人机与理想位置的距离之和: 3.373794843524543\n",
      "使用0, 1, 5调整无人机位置，调整后各无人机与理想位置的距离之和: 3.4652196090065863\n",
      "使用0, 1, 6调整无人机位置，调整后各无人机与理想位置的距离之和: 4.06557227321114\n",
      "使用0, 1, 7调整无人机位置，调整后各无人机与理想位置的距离之和: 3.0855202930856866\n",
      "使用0, 1, 8调整无人机位置，调整后各无人机与理想位置的距离之和: 4.261143240281411\n",
      "使用0, 1, 9调整无人机位置，调整后各无人机与理想位置的距离之和: 3.60194107332281\n",
      "调整后无人机极坐标\n"
     ]
    },
    {
     "data": {
      "text/plain": [
       "[[0.0, 0.0],\n",
       " [100.0, 0.0],\n",
       " [99.78663507944813, 40.34301736274431],\n",
       " [99.86806014885906, 80.11447284376344],\n",
       " [99.71547608542635, 120.16268333884226],\n",
       " [98.93932276457505, 160.03330476088118],\n",
       " [99.18460167123365, 199.90900809197672],\n",
       " [99.89903253595494, 240.04015856887872],\n",
       " [100.00279475160701, 280.0230803316624],\n",
       " [99.95545778906592, 320.1525368003248]]"
      ]
     },
     "execution_count": 9,
     "metadata": {},
     "output_type": "execute_result"
    }
   ],
   "source": [
    "drone_testing_location = []\n",
    "for i in range(len(drone_location_cartesian)):\n",
    "    drone_testing_location.append(list(drone_location_cartesian[i]))\n",
    "    \n",
    "for i in range(3):\n",
    "    print(f\"第 {i + 1} 次调整:\")\n",
    "    adjust_location(drone_testing_location, 1) # FY00, FY01发送信号\n",
    "\n",
    "drone_testing_location_polar = []\n",
    "for location in drone_testing_location:\n",
    "    drone_testing_location_polar.append(cartesian_to_polar(location))\n",
    "\n",
    "print(\"调整后无人机极坐标\")\n",
    "drone_testing_location_polar"
   ]
  },
  {
   "cell_type": "code",
   "execution_count": null,
   "id": "aa8cb734-871e-45a5-a2c4-82e2deaf9b71",
   "metadata": {},
   "outputs": [],
   "source": []
  },
  {
   "cell_type": "code",
   "execution_count": null,
   "id": "7d1027a2-e6fd-4fb1-a199-9f5552aaf05b",
   "metadata": {},
   "outputs": [],
   "source": []
  },
  {
   "cell_type": "code",
   "execution_count": 10,
   "id": "2be53b2a-7df0-4fba-8a1c-4e2cdb4439cb",
   "metadata": {},
   "outputs": [],
   "source": [
    "def calc_all_distance(drone_testing_location):\n",
    "    distance = 0\n",
    "    for i in range(1, len(drone_testing_location)):\n",
    "         distance += calc_distance(drone_testing_location[i], drone_ideal_location_cartesian[i])\n",
    "    return distance\n",
    "\n",
    "def q3_adjust_location(drone_testing_location, drone_sender_1, drone_sender_2, drone_sender_3, drone_recipient):\n",
    "    print(f\"校准前: {calc_all_distance(drone_testing_location)}\")\n",
    "    adjustment_range = 8\n",
    "    precision = 1\n",
    "    for drone_id in drone_recipient:\n",
    "        location_cost = []\n",
    "        min_cost = 1000000\n",
    "        min_cost_idx = -1\n",
    "        for i in np.arange(adjustment_range * -1, adjustment_range + precision, precision):\n",
    "            for i2 in np.arange(adjustment_range * -1, adjustment_range + precision, precision):\n",
    "                location = list(drone_testing_location[drone_id])\n",
    "                location[0] += i\n",
    "                location[1] += i2\n",
    "                angle = [calc_angle(location, drone_testing_location[drone_sender_1], drone_testing_location[drone_sender_2]), \n",
    "                         calc_angle(location, drone_testing_location[drone_sender_1], drone_testing_location[drone_sender_3])]\n",
    "                angle_cost = cost(angle,\n",
    "                                 [calc_angle(drone_ideal_location_cartesian[drone_id], drone_testing_location[drone_sender_1], drone_testing_location[drone_sender_2]), \n",
    "                                  calc_angle(drone_ideal_location_cartesian[drone_id], drone_testing_location[drone_sender_1], drone_testing_location[drone_sender_3])])\n",
    "                if angle_cost < min_cost:\n",
    "                    min_cost = angle_cost\n",
    "                    min_cost_idx = len(location_cost)\n",
    "                location_cost.append([location, angle])\n",
    "        drone_testing_location[drone_id] = location_cost[min_cost_idx][0]\n",
    "    print(f\"校准后: {calc_all_distance(drone_testing_location)}\")\n",
    "\n",
    "def q3_adjust_first_column(drone_testing_location):\n",
    "    adjustment_range = 8\n",
    "    precision = 0.1\n",
    "    for drone_id in [2, 3, 4]:\n",
    "        location_cost = []\n",
    "        min_cost = 1000000\n",
    "        min_cost_idx = -1\n",
    "        for i in np.arange(adjustment_range * -1, adjustment_range + precision, precision):\n",
    "            location = list(drone_testing_location[drone_id])\n",
    "            location[0] += i\n",
    "            angle = calc_angle(location, drone_testing_location[0], drone_testing_location[1])\n",
    "            if angle < min_cost:\n",
    "                min_cost = angle\n",
    "                min_cost_idx = len(location_cost)\n",
    "            location_cost.append([location, angle])\n",
    "        drone_testing_location[drone_id] = location_cost[min_cost_idx][0]"
   ]
  },
  {
   "cell_type": "code",
   "execution_count": 11,
   "id": "0d784b12-aeb1-4e77-ad00-b800bd1652d0",
   "metadata": {},
   "outputs": [
    {
     "data": {
      "image/png": "[encoded data removed]",
      "text/plain": [
       "<Figure size 432x288 with 1 Axes>"
      ]
     },
     "metadata": {
      "needs_background": "light"
     },
     "output_type": "display_data"
    }
   ],
   "source": [
    "\"\"\"\n",
    "问题2\n",
    "以FY15为原点，建立极坐标系\n",
    "0: FY15\n",
    "1: FY14\n",
    "2: FY13\n",
    "3: FY12\n",
    "4: FY11\n",
    "5: FY10\n",
    ".\n",
    ".\n",
    ".\n",
    "14: FY01\n",
    "\"\"\"\n",
    "# 无人机如锥形编队位置无偏差直角\n",
    "x = np.sqrt(50**2-25**2)\n",
    "drone_ideal_location_cartesian = [\n",
    "    # 第1列\n",
    "    [0, 0],\n",
    "    [0, 50],\n",
    "    [0, 100],\n",
    "    [0, 150],\n",
    "    [0, 200],\n",
    "    # 第2列\n",
    "    [x, 25],\n",
    "    [x, 75],\n",
    "    [x, 125],\n",
    "    [x, 175],\n",
    "    # 第3列\n",
    "    [2 * x, 50],\n",
    "    [2 * x, 100],\n",
    "    [2 * x, 150],\n",
    "    # 第4列\n",
    "    [3 * x, 75],\n",
    "    [3 * x, 125],\n",
    "    # 第5列\n",
    "    [4 * x, 100]\n",
    "    \n",
    "]\n",
    "plot_location(drone_ideal_location_cartesian)"
   ]
  },
  {
   "cell_type": "code",
   "execution_count": 12,
   "id": "ffda3412-743a-415e-a099-06dfc84ce8bf",
   "metadata": {},
   "outputs": [
    {
     "data": {
      "image/png": "[encoded data removed]",
      "text/plain": [
       "<Figure size 432x288 with 1 Axes>"
      ]
     },
     "metadata": {
      "needs_background": "light"
     },
     "output_type": "display_data"
    }
   ],
   "source": [
    "# 除了FY14和FY15，给其它无人机位置添加随机偏移\n",
    "drone_location_cartesian = []\n",
    "for i in range(len(drone_ideal_location_cartesian)):\n",
    "    location = drone_ideal_location_cartesian[i]\n",
    "    drone_location_cartesian.append(list(location))\n",
    "    if i in [0, 1]:\n",
    "        continue\n",
    "    if random.random() >= 0.5:\n",
    "        drone_location_cartesian[i][0] = location[0] + random.random() * 8\n",
    "    else:\n",
    "        drone_location_cartesian[i][0] = location[0] - random.random() * 8\n",
    "    if random.random() >= 0.5:\n",
    "        drone_location_cartesian[i][1] = location[1] + random.random() * 8\n",
    "    else:\n",
    "        drone_location_cartesian[i][1] = location[1] + random.random() * 8\n",
    "\n",
    "plot_location(drone_location_cartesian)"
   ]
  },
  {
   "cell_type": "code",
   "execution_count": 13,
   "id": "62571b27-2cc8-48bc-85a0-5e4afc0b7e98",
   "metadata": {},
   "outputs": [
    {
     "data": {
      "text/plain": [
       "73.09169306116219"
      ]
     },
     "execution_count": 13,
     "metadata": {},
     "output_type": "execute_result"
    }
   ],
   "source": [
    "drone_testing_location = []\n",
    "for i in range(len(drone_location_cartesian)):\n",
    "    drone_testing_location.append(list(drone_location_cartesian[i]))\n",
    "distance = 0\n",
    "for i in range(1, len(drone_testing_location)):\n",
    "     distance += calc_distance(drone_testing_location[i], drone_ideal_location_cartesian[i])\n",
    "distance"
   ]
  },
  {
   "cell_type": "code",
   "execution_count": 14,
   "id": "9881a61e-04cf-40ec-bec4-02c9883c8889",
   "metadata": {},
   "outputs": [
    {
     "name": "stdout",
     "output_type": "stream",
     "text": [
      "根据FY14和FY15，先校准第一列的x轴坐标，让第一列对齐\n"
     ]
    },
    {
     "data": {
      "image/png": "[encoded data removed]",
      "text/plain": [
       "<Figure size 432x288 with 1 Axes>"
      ]
     },
     "metadata": {
      "needs_background": "light"
     },
     "output_type": "display_data"
    },
    {
     "name": "stdout",
     "output_type": "stream",
     "text": [
      "根据第一列的FY13、FY14和FY15，校准第二列\n",
      "校准前: 69.54192448770553\n",
      "校准后: 51.18221743746535\n"
     ]
    },
    {
     "data": {
      "image/png": "[encoded data removed]",
      "text/plain": [
       "<Figure size 432x288 with 1 Axes>"
      ]
     },
     "metadata": {
      "needs_background": "light"
     },
     "output_type": "display_data"
    },
    {
     "name": "stdout",
     "output_type": "stream",
     "text": [
      "根据第二列FY08、FY09和FY10，校准第一列\n",
      "校准前: 51.18221743746535\n",
      "校准后: 46.26377976139222\n"
     ]
    },
    {
     "data": {
      "image/png": "[encoded data removed]",
      "text/plain": [
       "<Figure size 432x288 with 1 Axes>"
      ]
     },
     "metadata": {
      "needs_background": "light"
     },
     "output_type": "display_data"
    },
    {
     "name": "stdout",
     "output_type": "stream",
     "text": [
      "再次让第一列与FY15对齐\n"
     ]
    },
    {
     "data": {
      "image/png": "[encoded data removed]",
      "text/plain": [
       "<Figure size 432x288 with 1 Axes>"
      ]
     },
     "metadata": {
      "needs_background": "light"
     },
     "output_type": "display_data"
    },
    {
     "name": "stdout",
     "output_type": "stream",
     "text": [
      "据FY13、FY14和FY15，校准其余无人机\n",
      "校准前: 44.84730891980404\n",
      "校准后: 9.18461090861045\n"
     ]
    },
    {
     "data": {
      "image/png": "[encoded data removed]",
      "text/plain": [
       "<Figure size 432x288 with 1 Axes>"
      ]
     },
     "metadata": {
      "needs_background": "light"
     },
     "output_type": "display_data"
    }
   ],
   "source": [
    "# 根据FY14和FY15，先校准第一列的x轴坐标，让第一列对齐\n",
    "print(\"根据FY14和FY15，先校准第一列的x轴坐标，让第一列对齐\")\n",
    "q3_adjust_first_column(drone_testing_location)\n",
    "plot_location(drone_testing_location)\n",
    "\n",
    "# 根据第一列的FY13、FY14和FY15，校准第二列\n",
    "print(\"根据第一列的FY13、FY14和FY15，校准第二列\")\n",
    "q3_adjust_location(drone_testing_location, 0, 1, 2, range(5, 9))\n",
    "plot_location(drone_testing_location)\n",
    "\n",
    "# 根据第二列FY08、FY09和FY10，校准第一列\n",
    "print(\"根据第二列FY08、FY09和FY10，校准第一列\")\n",
    "q3_adjust_location(drone_testing_location, 5, 6, 7, [1, 2, 3, 4])\n",
    "plot_location(drone_testing_location)\n",
    "\n",
    "# 再次让第一列与FY15对齐\n",
    "print(\"再次让第一列与FY15对齐\")\n",
    "q3_adjust_first_column(drone_testing_location)\n",
    "plot_location(drone_testing_location)\n",
    "\n",
    "# 根据FY13、FY14和FY15，校准其余无人机\n",
    "print(\"据FY13、FY14和FY15，校准其余无人机\")\n",
    "q3_adjust_location(drone_testing_location, 0, 1, 2, range(5, 15))\n",
    "plot_location(drone_testing_location)"
   ]
  },
  {
   "cell_type": "code",
   "execution_count": null,
   "id": "e8fdd30a-625e-4efd-9cc4-c798aebeba32",
   "metadata": {},
   "outputs": [],
   "source": []
  },
  {
   "cell_type": "code",
   "execution_count": null,
   "id": "9a865110-7bf1-4250-be3b-8ed8451705db",
   "metadata": {},
   "outputs": [],
   "source": []
  }
 ],
 "metadata": {
  "kernelspec": {
   "display_name": "Python 3 (Bundle)",
   "language": "python",
   "name": "pyb"
  },
  "language_info": {
   "codemirror_mode": {
    "name": "ipython",
    "version": 3
   },
   "file_extension": ".py",
   "mimetype": "text/x-python",
   "name": "python",
   "nbconvert_exporter": "python",
   "pygments_lexer": "ipython3",
   "version": "3.8.10"
  }
 },
 "nbformat": 4,
 "nbformat_minor": 5
}
